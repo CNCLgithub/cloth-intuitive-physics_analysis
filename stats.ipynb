{
 "cells": [
  {
   "cell_type": "code",
   "execution_count": 1,
   "id": "a45b429b",
   "metadata": {},
   "outputs": [
    {
     "data": {
      "application/javascript": [
       "IPython.notebook.set_autosave_interval(5000)"
      ]
     },
     "metadata": {},
     "output_type": "display_data"
    },
    {
     "name": "stdout",
     "output_type": "stream",
     "text": [
      "Autosaving every 5 seconds\n"
     ]
    }
   ],
   "source": [
    "import os, random, copy\n",
    "import seaborn as sns\n",
    "import pandas as pd\n",
    "import numpy as np\n",
    "from os.path import join as opj\n",
    "import matplotlib.pyplot as plt\n",
    "from utils import ci_95, calc_p, calc_diff_p\n",
    "from scipy.io import loadmat\n",
    "%matplotlib inline\n",
    "random.seed(9)\n",
    "%autosave 5\n",
    "\n",
    "CUR_DIR = os.getcwd()\n",
    "\n",
    "DATA_DIR = opj(CUR_DIR, 'data')\n",
    "BOOTSTRAP_DIR = opj(DATA_DIR, 'parsed_questions_bootstrap')\n",
    "\n",
    "MODELS = ['human', 'woven', 'dnn', 'wovenab', 'wovenab2', 'dnn2']\n",
    "MODELS_WITHOUT_HUMAN = ['woven', 'dnn', 'wovenab', 'wovenab2', 'dnn2']\n",
    "BASELINE_MODELS = ['dnn', 'wovenab', 'wovenab2', 'dnn2']"
   ]
  },
  {
   "cell_type": "markdown",
   "id": "26e425f4",
   "metadata": {},
   "source": [
    "# 1. Matching Stiffness"
   ]
  },
  {
   "cell_type": "code",
   "execution_count": 2,
   "id": "632e971f",
   "metadata": {},
   "outputs": [],
   "source": [
    "COND = 'stiff'  # mass|stiff\n",
    "COND_F = pd.read_csv(opj(DATA_DIR, f'parsed_questions_{COND}.csv'))"
   ]
  },
  {
   "cell_type": "markdown",
   "id": "3585ae52",
   "metadata": {},
   "source": [
    "## 1.0) Compare average accuracy"
   ]
  },
  {
   "cell_type": "code",
   "execution_count": 3,
   "id": "3dfbf5d6",
   "metadata": {},
   "outputs": [
    {
     "name": "stdout",
     "output_type": "stream",
     "text": [
      "@@ Comparing the average accuracy between humans and the models (human acc - model acc).\n",
      "   The significance level is determined using 1000 bootstrap samples.\n",
      "   Task: stiff\n",
      "p(human vs. Woven) = 1.084\n",
      "p(human vs. DNN) = 1.022\n",
      "p(human vs. Woven-ablation) = 0.78\n",
      "p(human vs. Abaltion+) = 0.354\n",
      "p(human vs. best-corr. DNN) = 0.016\n"
     ]
    }
   ],
   "source": [
    "print(\"@@ Comparing the average accuracy between humans and the models (human acc - model acc).\")\n",
    "print(\"   The significance level is determined using 1000 bootstrap samples.\")\n",
    "print(f\"   Task: {COND}\")\n",
    "all_acc = COND_F.groupby(['iter_sub']).mean().reset_index()\n",
    "human_acc = all_acc['human_acc']\n",
    "\n",
    "for _model in MODELS_WITHOUT_HUMAN:\n",
    "    model_acc = all_acc[f'{_model}_acc']\n",
    "    p_value = calc_p(human_acc-model_acc)\n",
    "    if _model == 'wovenab2':\n",
    "        _model = 'Abaltion+'\n",
    "    elif _model == 'wovenab':\n",
    "        _model = 'Woven-ablation'\n",
    "    elif _model == 'dnn2':\n",
    "        _model = 'best-corr. DNN'\n",
    "    elif _model == 'woven':\n",
    "        _model = 'Woven'\n",
    "    elif _model == 'dnn':\n",
    "        _model = 'DNN'\n",
    "    print(f\"p(human vs. {_model}) = {p_value}\")\n"
   ]
  },
  {
   "cell_type": "markdown",
   "id": "7636a2c4",
   "metadata": {},
   "source": [
    "## 1.1) Comparing the correlation of accuracy levels between models and humans."
   ]
  },
  {
   "cell_type": "code",
   "execution_count": 4,
   "id": "ff784548",
   "metadata": {},
   "outputs": [
    {
     "name": "stdout",
     "output_type": "stream",
     "text": [
      "@@ Correlation of accuracy levels between human and models\n",
      "   Task: stiff\n",
      "p(cor(Woven, human)-cor(DNN, human)) = 0.0\n",
      "p(cor(Woven, human)-cor(Woven-ablation, human)) = 0.058\n",
      "p(cor(Woven, human)-cor(Abaltion+, human)) = 0.0\n",
      "p(cor(Woven, human)-cor(best-corr. DNN, human)) = 0.0\n"
     ]
    }
   ],
   "source": [
    "print(\"@@ Correlation of accuracy levels between human and models\")\n",
    "print(f\"   Task: {COND}\")\n",
    "\n",
    "conf_f = pd.read_csv(opj(BOOTSTRAP_DIR, f'cor_{COND}.csv'))\n",
    "\n",
    "for _model in BASELINE_MODELS:\n",
    "    cor_woven = conf_f['cor_woven']\n",
    "    cor_model = conf_f[f'cor_{_model}']\n",
    "    p_value = calc_diff_p(cor_woven, cor_model)\n",
    "    \n",
    "    if _model == 'wovenab2':\n",
    "        _model = 'Abaltion+'\n",
    "    elif _model == 'wovenab':\n",
    "        _model = 'Woven-ablation'\n",
    "    elif _model == 'dnn2':\n",
    "        _model = 'best-corr. DNN'\n",
    "    elif _model == 'dnn':\n",
    "        _model = 'DNN'\n",
    "        \n",
    "    print(f\"p(cor(Woven, human)-cor({_model}, human)) = {p_value}\")\n"
   ]
  },
  {
   "cell_type": "markdown",
   "id": "005a979c",
   "metadata": {},
   "source": [
    "## 1.2) Compare the correlation of models with human for each scene "
   ]
  },
  {
   "cell_type": "code",
   "execution_count": 5,
   "id": "249b278d",
   "metadata": {},
   "outputs": [
    {
     "name": "stdout",
     "output_type": "stream",
     "text": [
      "@@ Correlation between human and model accuracy levels by scene configurations\n",
      "   Task: stiff\n",
      "------ Exclude scene = wind\n",
      "p(Woven-DNN) = 0.0\n",
      "p(Woven-Woven-ablation) = 0.02\n",
      "p(Woven-Abaltion+) = 0.0\n",
      "p(Woven-best-corr. DNN) = 0.202\n",
      "------ Exclude scene = rotate\n",
      "p(Woven-DNN) = 0.0\n",
      "p(Woven-Woven-ablation) = 0.866\n",
      "p(Woven-Abaltion+) = 0.06\n",
      "p(Woven-best-corr. DNN) = 0.326\n",
      "------ Exclude scene = drape\n",
      "p(Woven-DNN) = 0.014\n",
      "p(Woven-Woven-ablation) = 0.312\n",
      "p(Woven-Abaltion+) = 0.002\n",
      "p(Woven-best-corr. DNN) = 0.0\n",
      "------ Exclude scene = ball\n",
      "p(Woven-DNN) = 0.0\n",
      "p(Woven-Woven-ablation) = 0.612\n",
      "p(Woven-Abaltion+) = 0.008\n",
      "p(Woven-best-corr. DNN) = 0.272\n"
     ]
    }
   ],
   "source": [
    "print(\"@@ Correlation between human and model accuracy levels by scene configurations\")\n",
    "print(f\"   Task: {COND}\")\n",
    "\n",
    "each_scene_cor_conf_f = pd.read_csv(opj(BOOTSTRAP_DIR, f'cor_each_scene_{COND}.csv'))\n",
    "each_scene_cor_conf_f = each_scene_cor_conf_f.melt(id_vars=['exclude_scene'], \n",
    "                                                   value_vars=[f'cor_{i}' for i in MODELS_WITHOUT_HUMAN], \n",
    "                                                   var_name='model', value_name='cor')\n",
    "\n",
    "for _scene in set(each_scene_cor_conf_f['exclude_scene']):\n",
    "    print(f\"------ Exclude scene = {_scene}\")\n",
    "    df = each_scene_cor_conf_f[each_scene_cor_conf_f['exclude_scene'] == _scene].reset_index(drop=True)\n",
    "    for i in BASELINE_MODELS:\n",
    "        woven = df[df['model'] == 'cor_woven'].reset_index(drop=True)['cor']\n",
    "        other_model = df[df['model'] == f'cor_{i}'].reset_index(drop=True)['cor']\n",
    "        p_value = calc_diff_p(woven, other_model)\n",
    "        if i == 'dnn':\n",
    "            i = 'DNN'\n",
    "        elif i == 'wovenab':\n",
    "            i = 'Woven-ablation'\n",
    "        elif i == 'wovenab2':\n",
    "            i = 'Abaltion+'\n",
    "        elif i == 'dnn2':\n",
    "            i = 'best-corr. DNN'\n",
    "        \n",
    "        print(f\"p(Woven-{i}) = {p_value}\")"
   ]
  },
  {
   "cell_type": "markdown",
   "id": "9b46e8fc",
   "metadata": {},
   "source": [
    "## 1.3) NMDS correlation"
   ]
  },
  {
   "cell_type": "code",
   "execution_count": 6,
   "id": "1b1e65d5",
   "metadata": {},
   "outputs": [
    {
     "name": "stdout",
     "output_type": "stream",
     "text": [
      "@@ 95% confidence interval for the correlation between the MDS space of the models and that of the humans.\n",
      "   Task: stiff\n",
      "\n",
      "   95% CI for r(human, DNN) : [0.22943982 0.26404008]\n",
      "   95% CI for r(human, Woven) : [0.41050466 0.77594403]\n",
      "   95% CI for r(human, Woven-ablation) : [0.29873198 0.53521945]\n",
      "   95% CI for r(human, Abaltion+) : [0.32608489 0.48563307]\n",
      "   95% CI for r(human, best-corr. DNN) : [0.38401005 0.55263503]\n",
      "\n",
      "@@ Statistical comparison of the correlation between Woven and humans against the correlation between other models and humans.\n",
      "   Task: stiff\n",
      "\n",
      "   cor(Woven, human)-cor(DNN, human) : p=0.0\n",
      "   cor(Woven, human)-cor(Woven-ablation, human) : p=0.096\n",
      "   cor(Woven, human)-cor(Abaltion+, human) : p=0.028\n",
      "   cor(Woven, human)-cor(best-corr. DNN, human) : p=0.092\n"
     ]
    }
   ],
   "source": [
    "in_file = opj(DATA_DIR, 'nmds', f'{COND}.mat')\n",
    "nmds_data = loadmat(in_file)\n",
    "\n",
    "models = ['cor_cnn', 'cor_gen', 'cor_genab', 'cor_genab2', 'cor_cnn2']\n",
    "print(\"@@ 95% confidence interval for the correlation between the MDS space of the models and that of the humans.\")\n",
    "print(f\"   Task: {COND}\\n\")\n",
    "for _model in models:\n",
    "    cur_ci = ci_95(nmds_data[_model])\n",
    "    \n",
    "    if _model == 'cor_genab2':\n",
    "        _model = 'Abaltion+'\n",
    "    elif _model == 'cor_genab':\n",
    "        _model = 'Woven-ablation'\n",
    "    elif _model == 'cor_cnn2':\n",
    "        _model = 'best-corr. DNN'\n",
    "    elif _model == 'cor_gen':\n",
    "        _model = 'Woven'\n",
    "    elif _model == 'cor_cnn':\n",
    "        _model = 'DNN'\n",
    "    \n",
    "    print(f\"   95% CI for r(human, {_model}) : {cur_ci}\")\n",
    "    \n",
    "#####\n",
    "## Significance test\n",
    "print(\"\\n@@ Statistical comparison of the correlation between Woven and humans against the correlation between other models and humans.\")\n",
    "print(f\"   Task: {COND}\\n\")\n",
    "models = ['cor_cnn', 'cor_genab', 'cor_genab2', 'cor_cnn2']\n",
    "for _model in models:\n",
    "    p_value = calc_diff_p(nmds_data['cor_gen'][0], nmds_data[_model][0])\n",
    "    if _model == 'cor_genab2':\n",
    "        _model = 'Abaltion+'\n",
    "    elif _model == 'cor_genab':\n",
    "        _model = 'Woven-ablation'\n",
    "    elif _model == 'cor_cnn2':\n",
    "        _model = 'best-corr. DNN'\n",
    "    elif _model == 'cor_cnn':\n",
    "        _model = 'DNN'\n",
    "    \n",
    "    print(f\"   cor(Woven, human)-cor({_model}, human) : p={p_value}\")\n",
    "    "
   ]
  },
  {
   "cell_type": "markdown",
   "id": "e576371b",
   "metadata": {},
   "source": [
    "# 2. Matching Mass"
   ]
  },
  {
   "cell_type": "code",
   "execution_count": 7,
   "id": "c02ccbf0",
   "metadata": {},
   "outputs": [],
   "source": [
    "COND = 'mass'  # mass|stiff\n",
    "COND_F = pd.read_csv(opj(DATA_DIR, f'parsed_questions_{COND}.csv'))"
   ]
  },
  {
   "cell_type": "markdown",
   "id": "44d02332",
   "metadata": {},
   "source": [
    "## 2.0) Compare average accuracy"
   ]
  },
  {
   "cell_type": "code",
   "execution_count": 8,
   "id": "a1f41f26",
   "metadata": {},
   "outputs": [
    {
     "name": "stdout",
     "output_type": "stream",
     "text": [
      "@@ Comparing the average accuracy between humans and the models (human acc - model acc).\n",
      "   The significance level is determined using 1000 bootstrap samples.\n",
      "   Task: mass\n",
      "p(human vs. Woven) = 0.84\n",
      "p(human vs. DNN) = 0.184\n",
      "p(human vs. Woven-ablation) = 0.882\n",
      "p(human vs. Abaltion+) = 0.996\n",
      "p(human vs. best-corr. DNN) = 0.032\n"
     ]
    }
   ],
   "source": [
    "print(\"@@ Comparing the average accuracy between humans and the models (human acc - model acc).\")\n",
    "print(\"   The significance level is determined using 1000 bootstrap samples.\")\n",
    "print(f\"   Task: {COND}\")\n",
    "all_acc = COND_F.groupby(['iter_sub']).mean().reset_index()\n",
    "human_acc = all_acc['human_acc']\n",
    "\n",
    "for _model in MODELS_WITHOUT_HUMAN:\n",
    "    model_acc = all_acc[f'{_model}_acc']\n",
    "    p_value = calc_p(human_acc-model_acc)\n",
    "    if _model == 'wovenab2':\n",
    "        _model = 'Abaltion+'\n",
    "    elif _model == 'wovenab':\n",
    "        _model = 'Woven-ablation'\n",
    "    elif _model == 'dnn2':\n",
    "        _model = 'best-corr. DNN'\n",
    "    elif _model == 'woven':\n",
    "        _model = 'Woven'\n",
    "    elif _model == 'dnn':\n",
    "        _model = 'DNN'\n",
    "    print(f\"p(human vs. {_model}) = {p_value}\")\n"
   ]
  },
  {
   "cell_type": "markdown",
   "id": "c0beb6ba",
   "metadata": {},
   "source": [
    "## 2.1) Comparing the correlation of accuracy levels between models and humans."
   ]
  },
  {
   "cell_type": "code",
   "execution_count": 9,
   "id": "c5e186d1",
   "metadata": {},
   "outputs": [
    {
     "name": "stdout",
     "output_type": "stream",
     "text": [
      "@@ Correlation of accuracy levels between human and models\n",
      "   Task: mass\n",
      "p(cor(Woven, human)-cor(DNN, human)) = 0.0\n",
      "p(cor(Woven, human)-cor(Woven-ablation, human)) = 0.0\n",
      "p(cor(Woven, human)-cor(Abaltion+, human)) = 0.866\n",
      "p(cor(Woven, human)-cor(best-corr. DNN, human)) = 0.0\n"
     ]
    }
   ],
   "source": [
    "print(\"@@ Correlation of accuracy levels between human and models\")\n",
    "print(f\"   Task: {COND}\")\n",
    "\n",
    "conf_f = pd.read_csv(opj(BOOTSTRAP_DIR, f'cor_{COND}.csv'))\n",
    "\n",
    "for _model in BASELINE_MODELS:\n",
    "    cor_woven = conf_f['cor_woven']\n",
    "    cor_model = conf_f[f'cor_{_model}']\n",
    "    p_value = calc_diff_p(cor_woven, cor_model)\n",
    "    \n",
    "    if _model == 'wovenab2':\n",
    "        _model = 'Abaltion+'\n",
    "    elif _model == 'wovenab':\n",
    "        _model = 'Woven-ablation'\n",
    "    elif _model == 'dnn2':\n",
    "        _model = 'best-corr. DNN'\n",
    "    elif _model == 'dnn':\n",
    "        _model = 'DNN'\n",
    "        \n",
    "    print(f\"p(cor(Woven, human)-cor({_model}, human)) = {p_value}\")\n"
   ]
  },
  {
   "cell_type": "markdown",
   "id": "42cece54",
   "metadata": {},
   "source": [
    "## 2.2) Compare the correlation of models with human for each scene "
   ]
  },
  {
   "cell_type": "code",
   "execution_count": 10,
   "id": "1c6bd776",
   "metadata": {},
   "outputs": [
    {
     "name": "stdout",
     "output_type": "stream",
     "text": [
      "@@ Correlation between human and model accuracy levels by scene configurations\n",
      "   Task: mass\n",
      "------ Exclude scene = wind\n",
      "p(Woven-DNN) = 0.0\n",
      "p(Woven-Woven-ablation) = 0.0\n",
      "p(Woven-Abaltion+) = 0.006\n",
      "p(Woven-best-corr. DNN) = 0.0\n",
      "------ Exclude scene = rotate\n",
      "p(Woven-DNN) = 0.0\n",
      "p(Woven-Woven-ablation) = 0.0\n",
      "p(Woven-Abaltion+) = 0.644\n",
      "p(Woven-best-corr. DNN) = 0.0\n",
      "------ Exclude scene = drape\n",
      "p(Woven-DNN) = 0.0\n",
      "p(Woven-Woven-ablation) = 0.0\n",
      "p(Woven-Abaltion+) = 0.006\n",
      "p(Woven-best-corr. DNN) = 0.0\n",
      "------ Exclude scene = ball\n",
      "p(Woven-DNN) = 0.0\n",
      "p(Woven-Woven-ablation) = 0.0\n",
      "p(Woven-Abaltion+) = 0.762\n",
      "p(Woven-best-corr. DNN) = 0.0\n"
     ]
    }
   ],
   "source": [
    "print(\"@@ Correlation between human and model accuracy levels by scene configurations\")\n",
    "print(f\"   Task: {COND}\")\n",
    "\n",
    "each_scene_cor_conf_f = pd.read_csv(opj(BOOTSTRAP_DIR, f'cor_each_scene_{COND}.csv'))\n",
    "each_scene_cor_conf_f = each_scene_cor_conf_f.melt(id_vars=['exclude_scene'], \n",
    "                                                   value_vars=[f'cor_{i}' for i in MODELS_WITHOUT_HUMAN], \n",
    "                                                   var_name='model', value_name='cor')\n",
    "\n",
    "for _scene in set(each_scene_cor_conf_f['exclude_scene']):\n",
    "    print(f\"------ Exclude scene = {_scene}\")\n",
    "    df = each_scene_cor_conf_f[each_scene_cor_conf_f['exclude_scene'] == _scene].reset_index(drop=True)\n",
    "    for i in BASELINE_MODELS:\n",
    "        woven = df[df['model'] == 'cor_woven'].reset_index(drop=True)['cor']\n",
    "        other_model = df[df['model'] == f'cor_{i}'].reset_index(drop=True)['cor']\n",
    "        p_value = calc_diff_p(woven, other_model)\n",
    "        if i == 'dnn':\n",
    "            i = 'DNN'\n",
    "        elif i == 'wovenab':\n",
    "            i = 'Woven-ablation'\n",
    "        elif i == 'wovenab2':\n",
    "            i = 'Abaltion+'\n",
    "        elif i == 'dnn2':\n",
    "            i = 'best-corr. DNN'\n",
    "        \n",
    "        print(f\"p(Woven-{i}) = {p_value}\")"
   ]
  },
  {
   "cell_type": "markdown",
   "id": "9dc4b4e6",
   "metadata": {},
   "source": [
    "## 2.3) NMDS correlation"
   ]
  },
  {
   "cell_type": "code",
   "execution_count": 11,
   "id": "0fa2f315",
   "metadata": {},
   "outputs": [
    {
     "name": "stdout",
     "output_type": "stream",
     "text": [
      "@@ 95% confidence interval for the correlation between the MDS space of the models and that of the humans.\n",
      "   Task: mass\n",
      "\n",
      "   95% CI for r(human, DNN) : [0.00083565 0.06162289]\n",
      "   95% CI for r(human, Woven) : [0.5069238  0.72760374]\n",
      "   95% CI for r(human, Woven-ablation) : [0.10025667 0.22660985]\n",
      "   95% CI for r(human, Abaltion+) : [0.34419473 0.43212359]\n",
      "   95% CI for r(human, best-corr. DNN) : [0.19701044 0.2658229 ]\n",
      "\n",
      "@@ Statistical comparison of the correlation between Woven and humans against the correlation between other models and humans.\n",
      "   Task: mass\n",
      "\n",
      "   cor(Woven, human)-cor(DNN, human) : p=0.0\n",
      "   cor(Woven, human)-cor(Woven-ablation, human) : p=0.0\n",
      "   cor(Woven, human)-cor(Abaltion+, human) : p=0.0\n",
      "   cor(Woven, human)-cor(best-corr. DNN, human) : p=0.0\n"
     ]
    }
   ],
   "source": [
    "in_file = opj(DATA_DIR, 'nmds', f'{COND}.mat')\n",
    "nmds_data = loadmat(in_file)\n",
    "\n",
    "models = ['cor_cnn', 'cor_gen', 'cor_genab', 'cor_genab2', 'cor_cnn2']\n",
    "print(\"@@ 95% confidence interval for the correlation between the MDS space of the models and that of the humans.\")\n",
    "print(f\"   Task: {COND}\\n\")\n",
    "for _model in models:\n",
    "    cur_ci = ci_95(nmds_data[_model])\n",
    "    \n",
    "    if _model == 'cor_genab2':\n",
    "        _model = 'Abaltion+'\n",
    "    elif _model == 'cor_genab':\n",
    "        _model = 'Woven-ablation'\n",
    "    elif _model == 'cor_cnn2':\n",
    "        _model = 'best-corr. DNN'\n",
    "    elif _model == 'cor_gen':\n",
    "        _model = 'Woven'\n",
    "    elif _model == 'cor_cnn':\n",
    "        _model = 'DNN'\n",
    "    \n",
    "    print(f\"   95% CI for r(human, {_model}) : {cur_ci}\")\n",
    "    \n",
    "#####\n",
    "## Significance test\n",
    "print(\"\\n@@ Statistical comparison of the correlation between Woven and humans against the correlation between other models and humans.\")\n",
    "print(f\"   Task: {COND}\\n\")\n",
    "models = ['cor_cnn', 'cor_genab', 'cor_genab2', 'cor_cnn2']\n",
    "for _model in models:\n",
    "    p_value = calc_diff_p(nmds_data['cor_gen'][0], nmds_data[_model][0])\n",
    "    if _model == 'cor_genab2':\n",
    "        _model = 'Abaltion+'\n",
    "    elif _model == 'cor_genab':\n",
    "        _model = 'Woven-ablation'\n",
    "    elif _model == 'cor_cnn2':\n",
    "        _model = 'best-corr. DNN'\n",
    "    elif _model == 'cor_cnn':\n",
    "        _model = 'DNN'\n",
    "    \n",
    "    print(f\"   cor(Woven, human)-cor({_model}, human) : p={p_value}\")"
   ]
  },
  {
   "cell_type": "code",
   "execution_count": null,
   "id": "00dc2329",
   "metadata": {},
   "outputs": [],
   "source": []
  }
 ],
 "metadata": {
  "kernelspec": {
   "display_name": "Python 3 (ipykernel)",
   "language": "python",
   "name": "python3"
  },
  "language_info": {
   "codemirror_mode": {
    "name": "ipython",
    "version": 3
   },
   "file_extension": ".py",
   "mimetype": "text/x-python",
   "name": "python",
   "nbconvert_exporter": "python",
   "pygments_lexer": "ipython3",
   "version": "3.7.12"
  },
  "varInspector": {
   "cols": {
    "lenName": 16,
    "lenType": 16,
    "lenVar": 40
   },
   "kernels_config": {
    "python": {
     "delete_cmd_postfix": "",
     "delete_cmd_prefix": "del ",
     "library": "var_list.py",
     "varRefreshCmd": "print(var_dic_list())"
    },
    "r": {
     "delete_cmd_postfix": ") ",
     "delete_cmd_prefix": "rm(",
     "library": "var_list.r",
     "varRefreshCmd": "cat(var_dic_list()) "
    }
   },
   "types_to_exclude": [
    "module",
    "function",
    "builtin_function_or_method",
    "instance",
    "_Feature"
   ],
   "window_display": false
  }
 },
 "nbformat": 4,
 "nbformat_minor": 5
}
