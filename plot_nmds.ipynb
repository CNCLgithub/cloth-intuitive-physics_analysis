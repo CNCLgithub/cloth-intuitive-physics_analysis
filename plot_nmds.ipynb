{
 "cells": [
  {
   "cell_type": "code",
   "execution_count": 1,
   "id": "dfa1bf54",
   "metadata": {},
   "outputs": [],
   "source": [
    "import os, random, copy\n",
    "import seaborn as sns\n",
    "import pandas as pd\n",
    "import numpy as np\n",
    "from os.path import join as opj\n",
    "import matplotlib.pyplot as plt\n",
    "from utils import ci_95, calc_p\n",
    "from scipy.io import loadmat\n",
    "\n",
    "%matplotlib inline\n",
    "\n",
    "\n",
    "CUR_DIR = os.getcwd()\n",
    "DATA_DIR = opj(CUR_DIR, 'data')\n",
    "BOOTSTRAP_DIR = opj(DATA_DIR, 'parsed_questions_bootstrap')"
   ]
  },
  {
   "cell_type": "markdown",
   "id": "c972c3d9",
   "metadata": {},
   "source": [
    "# Note <a name=\"Note\"></a>\n",
    "\n",
    "<p><b>\"cor_gen\" : </b> MDS correlation between Woven and human</p>\n",
    "<p><b>\"cor_genab\" : </b> MDS correlation between Woven-ablation and human</p>\n",
    "<p><b>\"cor_cnn\" : </b> MDS correlation between DNN and human</p>\n",
    "<p><b>\"cor_genab2\" : </b> MDS correlation between Ablation+ and human</p>\n",
    "<p><b>\"cor_cnn2\" : </b> MDS correlation between Best-corr. DNN and human</p>"
   ]
  },
  {
   "cell_type": "code",
   "execution_count": 2,
   "id": "1d449927",
   "metadata": {
    "scrolled": false
   },
   "outputs": [
    {
     "name": "stdout",
     "output_type": "stream",
     "text": [
      "Task: stiff\n",
      "\n"
     ]
    },
    {
     "data": {
      "image/png": "[encoded data removed]",
      "text/plain": [
       "<Figure size 432x288 with 1 Axes>"
      ]
     },
     "metadata": {
      "needs_background": "light"
     },
     "output_type": "display_data"
    },
    {
     "name": "stdout",
     "output_type": "stream",
     "text": [
      "Task: mass\n",
      "\n"
     ]
    },
    {
     "data": {
      "image/png": "[encoded data removed]",
      "text/plain": [
       "<Figure size 432x288 with 1 Axes>"
      ]
     },
     "metadata": {
      "needs_background": "light"
     },
     "output_type": "display_data"
    }
   ],
   "source": [
    "COND_ALL = ['stiff', 'mass']\n",
    "\n",
    "for COND in COND_ALL:\n",
    "    COND_F = pd.read_csv(opj(DATA_DIR, f'parsed_questions_{COND}.csv'))\n",
    "\n",
    "    in_file = opj(DATA_DIR, 'nmds', f'{COND}.mat')\n",
    "    nmds_data = loadmat(in_file)\n",
    "    models = ['cor_gen', 'cor_genab', 'cor_cnn', 'cor_genab2', 'cor_cnn2']\n",
    "    plot_pd = []\n",
    "    print(f\"Task: {COND}\\n\")\n",
    "    for _model in models:\n",
    "        cur_ci = ci_95(nmds_data[_model])\n",
    "        plot_pd += [list(cur_ci)]\n",
    "\n",
    "\n",
    "    mean_mds_f = f'scripts/nmds/output/embed_after_align_{COND}.mat'\n",
    "    mean_mds_data = loadmat(mean_mds_f)\n",
    "    mean_ls = [mean_mds_data['r_woven_human'][0][0], \n",
    "               mean_mds_data['r_wovenab_human'][0][0], \n",
    "               mean_mds_data['r_dnn_human'][0][0],\n",
    "               mean_mds_data['r_wovenab2_human'][0][0],\n",
    "               mean_mds_data['r_dnn2_human'][0][0]]\n",
    "\n",
    "    df = pd.DataFrame(plot_pd, columns=['lower', 'higher'])\n",
    "    df['mean'] = mean_ls\n",
    "    df['name'] = models\n",
    "\n",
    "\n",
    "    errors = df['mean'] - df['lower'], df['higher'] - df['mean']\n",
    "\n",
    "    fig, ax = plt.subplots()\n",
    "    ax.bar(df['name'], df['mean'], yerr=errors, capsize=5)\n",
    "    ax.set_xlabel('Model')\n",
    "    ax.set_ylabel('Correlation Coefficient')\n",
    "    ax.set_title(f'{COND}: MDS correlation between humans and models')\n",
    "    # plt.savefig(opj(f'nmds_cor_{COND}.svg'), format=\"svg\", dpi=300)\n",
    "\n",
    "    plt.show()"
   ]
  }
 ],
 "metadata": {
  "kernelspec": {
   "display_name": "Python 3 (ipykernel)",
   "language": "python",
   "name": "python3"
  },
  "language_info": {
   "codemirror_mode": {
    "name": "ipython",
    "version": 3
   },
   "file_extension": ".py",
   "mimetype": "text/x-python",
   "name": "python",
   "nbconvert_exporter": "python",
   "pygments_lexer": "ipython3",
   "version": "3.7.12"
  },
  "varInspector": {
   "cols": {
    "lenName": 16,
    "lenType": 16,
    "lenVar": 40
   },
   "kernels_config": {
    "python": {
     "delete_cmd_postfix": "",
     "delete_cmd_prefix": "del ",
     "library": "var_list.py",
     "varRefreshCmd": "print(var_dic_list())"
    },
    "r": {
     "delete_cmd_postfix": ") ",
     "delete_cmd_prefix": "rm(",
     "library": "var_list.r",
     "varRefreshCmd": "cat(var_dic_list()) "
    }
   },
   "types_to_exclude": [
    "module",
    "function",
    "builtin_function_or_method",
    "instance",
    "_Feature"
   ],
   "window_display": false
  }
 },
 "nbformat": 4,
 "nbformat_minor": 5
}
